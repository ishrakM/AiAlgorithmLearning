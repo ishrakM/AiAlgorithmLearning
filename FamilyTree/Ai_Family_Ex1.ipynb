{
  "nbformat": 4,
  "nbformat_minor": 0,
  "metadata": {
    "colab": {
      "name": "Ai Family Ex1.ipynb",
      "provenance": [],
      "authorship_tag": "ABX9TyOGCbsazxGkG1Wik+FiNuy2"
    },
    "kernelspec": {
      "name": "python3",
      "display_name": "Python 3"
    },
    "language_info": {
      "name": "python"
    }
  },
  "cells": [
    {
      "cell_type": "code",
      "execution_count": null,
      "metadata": {
        "colab": {
          "base_uri": "https://localhost:8080/"
        },
        "id": "1jPc-e4zZu72",
        "outputId": "2b4d04da-ef03-462f-ecc0-0bda92d4e870"
      },
      "outputs": [
        {
          "output_type": "stream",
          "name": "stdout",
          "text": [
            "Requirement already satisfied: pytholog in /usr/local/lib/python3.7/dist-packages (2.4.1)\n",
            "Requirement already satisfied: more-itertools in /usr/local/lib/python3.7/dist-packages (from pytholog) (8.12.0)\n"
          ]
        }
      ],
      "source": [
        "pip install pytholog"
      ]
    },
    {
      "cell_type": "code",
      "source": [
        "import pytholog as pl\n",
        "#importing pytholog library"
      ],
      "metadata": {
        "id": "EnENjfcZa0ZD"
      },
      "execution_count": null,
      "outputs": []
    },
    {
      "cell_type": "code",
      "source": [
        "new_kb = pl.KnowledgeBase(\"family\")\n",
        "\n",
        "new_kb([\"male(abe)\" ,\n",
        "\"male(clancy)\",  \n",
        "\"male(herb)\",  \n",
        "\"male(homer)\", \n",
        "\"male(bart)\",\n",
        "\n",
        "\"female(mona)\",\n",
        "\"female(jacqueline)\" ,\n",
        "\"female(marge)\" , \n",
        "\"female(patty)\" ,\n",
        "\"female(selma)\", \n",
        "\"female(maggie)\" ,\n",
        "\"female(ling)\" ,\n",
        "\"female(lisa)\" ,\n",
        "\n",
        "#defining sex\n",
        "\n",
        "\n",
        "#define father\n",
        "\"father(clancy, selma)\",\n",
        "\"father(clancy, patty)\",\n",
        "\"father(homer, bart)\",\n",
        "\"father(homer, maggie)\",\n",
        "\"father(homer, lisa)\",\n",
        "\"father(clancy, marge)\",\n",
        "\"father(abe, homer)\",\n",
        "\"father(abe, herb)\",\n",
        "\n",
        "#define father\n",
        "\"mother(mona, homer)\", \n",
        "\"mother(marge, bart)\",\n",
        "\"mother(mona,herb)\",\n",
        "\"mother(jacqueline,marge)\",\n",
        "\"mother(jacqueline,patty)\",\n",
        "\"mother(jacqueline,selma)\" ,\n",
        "\"mother(marge,lisa)\" ,\n",
        "\"mother(marge,maggie)\",\n",
        "\"mother(selma,ling)\" ,\n",
        "\n",
        "#define parents\n",
        "\"parent(X,Y) :- father(X,Y)\" ,\n",
        "\"parent(X,Y) :- mother(X,Y)\" ,\n",
        "\n",
        "#define marrage status\n",
        "\"married(X,Y):- parent(X,Z),parent(Y,Z),neq(Y,X)\",\n",
        "\n",
        "#define brother/sister ( father and mother should be same)\n",
        "\"brother(X,Y):- male(X),father(Z, X),father(Z, Y), mother(W, X),mother(W, Y), neq(X, Y)\",\n",
        "\"sister(X,Y):-  female(X),father(F, X) ,father(F, Y) ,mother(M, X) ,mother(M, Y), neq(X, Y)\",\n",
        "\n",
        "\"sibling(X, Y) :- father(Z, X), father(Z, Y), neq(X, Y)\",\n",
        "\n",
        "#define grand parents (parents of parents)\n",
        "\"grandfather(X, Y) :- male(X), parent(Parent, Y), parent(X,Parent )\",\n",
        "\"grandmother(X,  Y) :- female(X), parent(Parent, Y), parent(X,Parent )\",\n",
        "\n",
        "\"grandparent(X, Y) :- grandmother(X, Y)\",\n",
        "\"grandparent(X, Y) :- grandfather(X, Y)\",\n",
        "\n",
        "#define uncle aunt ( must be brother/sister of parents)\n",
        "\"uncle(X, Y) :- male(X),parent(Z, Y), brother(Z, X), neq(X, Z)\",\n",
        "\"aunt(X,Y) :- female(X), parent(Z,Y), sister(Z, X), neq(X, Z)\",\n",
        "\n",
        "#define nephew /niece ( kid of brother/sister)\n",
        "\"nephew(X,Y):- male(X), parent(K,X), sister(Y,K)\",\n",
        "\"nephew(X,Y):- male(X), parent(K,X), brother(Y,K)\",\n",
        "\"niece(X,Y):- female(X), parent(K,X), sister(Y,K)\",\n",
        "\"niece(X,Y):- female(X), parent(K,X), brother(Y,K)\"])\n",
        "\n",
        "\n",
        "#Query Uncle\n",
        "print(new_kb.query(pl.Expr(\"uncle(What,bart)\")))"
      ],
      "metadata": {
        "colab": {
          "base_uri": "https://localhost:8080/"
        },
        "id": "sW6xVo8ma4HP",
        "outputId": "9c66952d-3787-410a-937f-0a09432c08ba"
      },
      "execution_count": null,
      "outputs": [
        {
          "output_type": "stream",
          "name": "stdout",
          "text": [
            "[{'What': 'herb'}]\n"
          ]
        }
      ]
    },
    {
      "cell_type": "code",
      "source": [
        "#Query Aunt\n",
        "print(new_kb.query(pl.Expr(\"aunt(What,bart)\")))"
      ],
      "metadata": {
        "colab": {
          "base_uri": "https://localhost:8080/"
        },
        "id": "zKmrUL1a5sIl",
        "outputId": "43cdc567-18cc-4914-9007-256b915ad6f1"
      },
      "execution_count": null,
      "outputs": [
        {
          "output_type": "stream",
          "name": "stdout",
          "text": [
            "[{'What': 'patty'}, {'What': 'selma'}]\n"
          ]
        }
      ]
    },
    {
      "cell_type": "code",
      "source": [
        "#Query Father\n",
        "print(new_kb.query(pl.Expr(\"father(What,maggie)\")))"
      ],
      "metadata": {
        "colab": {
          "base_uri": "https://localhost:8080/"
        },
        "id": "30NXP3YF4GW6",
        "outputId": "68201d68-c6c4-4922-f62c-32c154557326"
      },
      "execution_count": null,
      "outputs": [
        {
          "output_type": "stream",
          "name": "stdout",
          "text": [
            "[{'What': 'homer'}]\n"
          ]
        }
      ]
    },
    {
      "cell_type": "code",
      "source": [
        "#Query Grandfather\n",
        "print(new_kb.query(pl.Expr(\"grandfather(What,lisa)\")))"
      ],
      "metadata": {
        "colab": {
          "base_uri": "https://localhost:8080/"
        },
        "id": "h7snKm7hb1QO",
        "outputId": "14ddf13e-8237-4a18-911a-144f162a8dc4"
      },
      "execution_count": null,
      "outputs": [
        {
          "output_type": "stream",
          "name": "stdout",
          "text": [
            "[{'What': 'abe'}, {'What': 'clancy'}]\n"
          ]
        }
      ]
    },
    {
      "cell_type": "code",
      "source": [
        "#Query niece\n",
        "print(new_kb.query(pl.Expr(\"niece(What,selma)\")))"
      ],
      "metadata": {
        "colab": {
          "base_uri": "https://localhost:8080/"
        },
        "id": "xt-of2SO55MA",
        "outputId": "0a1d3408-fe8c-45b5-9f76-96f25aa00f1e"
      },
      "execution_count": null,
      "outputs": [
        {
          "output_type": "stream",
          "name": "stdout",
          "text": [
            "[{'What': 'ling'}, {'What': 'lisa'}, {'What': 'maggie'}]\n"
          ]
        }
      ]
    },
    {
      "cell_type": "code",
      "source": [
        "#Query nephew\n",
        "print(new_kb.query(pl.Expr(\"nephew(What,patty)\")))"
      ],
      "metadata": {
        "id": "p_hdPro2OSe8",
        "outputId": "fc935614-89e9-427b-f6e2-1db23f8d6771",
        "colab": {
          "base_uri": "https://localhost:8080/"
        }
      },
      "execution_count": null,
      "outputs": [
        {
          "output_type": "stream",
          "name": "stdout",
          "text": [
            "[{'What': 'bart'}]\n"
          ]
        }
      ]
    },
    {
      "cell_type": "code",
      "source": [
        "#Query siblings\n",
        "print(new_kb.query(pl.Expr(\"sibling(What,lisa)\")))"
      ],
      "metadata": {
        "colab": {
          "base_uri": "https://localhost:8080/"
        },
        "id": "9ToIkDrZIlJC",
        "outputId": "73f637d8-9978-453d-be2d-c01c4737ce61"
      },
      "execution_count": null,
      "outputs": [
        {
          "output_type": "stream",
          "name": "stdout",
          "text": [
            "[{'What': 'bart'}, {'What': 'maggie'}]\n"
          ]
        }
      ]
    }
  ]
}