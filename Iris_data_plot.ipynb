{
  "nbformat": 4,
  "nbformat_minor": 0,
  "metadata": {
    "colab": {
      "name": "Iris_data_plot.ipynb",
      "provenance": [],
      "mount_file_id": "1QbHunuh9R8Rw4o_zPDJtILnFIhhvuujg",
      "authorship_tag": "ABX9TyPi8efgWCP2BDruDBvHAW/L"
    },
    "kernelspec": {
      "name": "python3",
      "display_name": "Python 3"
    },
    "language_info": {
      "name": "python"
    }
  },
  "cells": [
    {
      "cell_type": "code",
      "execution_count": 3,
      "metadata": {
        "id": "A8Ox21h5pnh2"
      },
      "outputs": [],
      "source": [
        "import numpy as np\n",
        "import pandas as pd\n",
        "import matplotlib.pylab as pl"
      ]
    },
    {
      "cell_type": "code",
      "source": [
        "raw = pd.read_csv('/content/drive/MyDrive/Ai Colab/iris_data/iris.data')\n",
        "data = raw.values\n",
        "print(data)"
      ],
      "metadata": {
        "colab": {
          "base_uri": "https://localhost:8080/"
        },
        "id": "opRGxroyp67U",
        "outputId": "7f75f639-a6af-43bb-97ac-5baf80f282f6"
      },
      "execution_count": 4,
      "outputs": [
        {
          "output_type": "stream",
          "name": "stdout",
          "text": [
            "[[4.9 3.0 1.4 0.2 'Iris-setosa']\n",
            " [4.7 3.2 1.3 0.2 'Iris-setosa']\n",
            " [4.6 3.1 1.5 0.2 'Iris-setosa']\n",
            " [5.0 3.6 1.4 0.2 'Iris-setosa']\n",
            " [5.4 3.9 1.7 0.4 'Iris-setosa']\n",
            " [4.6 3.4 1.4 0.3 'Iris-setosa']\n",
            " [5.0 3.4 1.5 0.2 'Iris-setosa']\n",
            " [4.4 2.9 1.4 0.2 'Iris-setosa']\n",
            " [4.9 3.1 1.5 0.1 'Iris-setosa']\n",
            " [5.4 3.7 1.5 0.2 'Iris-setosa']\n",
            " [4.8 3.4 1.6 0.2 'Iris-setosa']\n",
            " [4.8 3.0 1.4 0.1 'Iris-setosa']\n",
            " [4.3 3.0 1.1 0.1 'Iris-setosa']\n",
            " [5.8 4.0 1.2 0.2 'Iris-setosa']\n",
            " [5.7 4.4 1.5 0.4 'Iris-setosa']\n",
            " [5.4 3.9 1.3 0.4 'Iris-setosa']\n",
            " [5.1 3.5 1.4 0.3 'Iris-setosa']\n",
            " [5.7 3.8 1.7 0.3 'Iris-setosa']\n",
            " [5.1 3.8 1.5 0.3 'Iris-setosa']\n",
            " [5.4 3.4 1.7 0.2 'Iris-setosa']\n",
            " [5.1 3.7 1.5 0.4 'Iris-setosa']\n",
            " [4.6 3.6 1.0 0.2 'Iris-setosa']\n",
            " [5.1 3.3 1.7 0.5 'Iris-setosa']\n",
            " [4.8 3.4 1.9 0.2 'Iris-setosa']\n",
            " [5.0 3.0 1.6 0.2 'Iris-setosa']\n",
            " [5.0 3.4 1.6 0.4 'Iris-setosa']\n",
            " [5.2 3.5 1.5 0.2 'Iris-setosa']\n",
            " [5.2 3.4 1.4 0.2 'Iris-setosa']\n",
            " [4.7 3.2 1.6 0.2 'Iris-setosa']\n",
            " [4.8 3.1 1.6 0.2 'Iris-setosa']\n",
            " [5.4 3.4 1.5 0.4 'Iris-setosa']\n",
            " [5.2 4.1 1.5 0.1 'Iris-setosa']\n",
            " [5.5 4.2 1.4 0.2 'Iris-setosa']\n",
            " [4.9 3.1 1.5 0.1 'Iris-setosa']\n",
            " [5.0 3.2 1.2 0.2 'Iris-setosa']\n",
            " [5.5 3.5 1.3 0.2 'Iris-setosa']\n",
            " [4.9 3.1 1.5 0.1 'Iris-setosa']\n",
            " [4.4 3.0 1.3 0.2 'Iris-setosa']\n",
            " [5.1 3.4 1.5 0.2 'Iris-setosa']\n",
            " [5.0 3.5 1.3 0.3 'Iris-setosa']\n",
            " [4.5 2.3 1.3 0.3 'Iris-setosa']\n",
            " [4.4 3.2 1.3 0.2 'Iris-setosa']\n",
            " [5.0 3.5 1.6 0.6 'Iris-setosa']\n",
            " [5.1 3.8 1.9 0.4 'Iris-setosa']\n",
            " [4.8 3.0 1.4 0.3 'Iris-setosa']\n",
            " [5.1 3.8 1.6 0.2 'Iris-setosa']\n",
            " [4.6 3.2 1.4 0.2 'Iris-setosa']\n",
            " [5.3 3.7 1.5 0.2 'Iris-setosa']\n",
            " [5.0 3.3 1.4 0.2 'Iris-setosa']\n",
            " [7.0 3.2 4.7 1.4 'Iris-versicolor']\n",
            " [6.4 3.2 4.5 1.5 'Iris-versicolor']\n",
            " [6.9 3.1 4.9 1.5 'Iris-versicolor']\n",
            " [5.5 2.3 4.0 1.3 'Iris-versicolor']\n",
            " [6.5 2.8 4.6 1.5 'Iris-versicolor']\n",
            " [5.7 2.8 4.5 1.3 'Iris-versicolor']\n",
            " [6.3 3.3 4.7 1.6 'Iris-versicolor']\n",
            " [4.9 2.4 3.3 1.0 'Iris-versicolor']\n",
            " [6.6 2.9 4.6 1.3 'Iris-versicolor']\n",
            " [5.2 2.7 3.9 1.4 'Iris-versicolor']\n",
            " [5.0 2.0 3.5 1.0 'Iris-versicolor']\n",
            " [5.9 3.0 4.2 1.5 'Iris-versicolor']\n",
            " [6.0 2.2 4.0 1.0 'Iris-versicolor']\n",
            " [6.1 2.9 4.7 1.4 'Iris-versicolor']\n",
            " [5.6 2.9 3.6 1.3 'Iris-versicolor']\n",
            " [6.7 3.1 4.4 1.4 'Iris-versicolor']\n",
            " [5.6 3.0 4.5 1.5 'Iris-versicolor']\n",
            " [5.8 2.7 4.1 1.0 'Iris-versicolor']\n",
            " [6.2 2.2 4.5 1.5 'Iris-versicolor']\n",
            " [5.6 2.5 3.9 1.1 'Iris-versicolor']\n",
            " [5.9 3.2 4.8 1.8 'Iris-versicolor']\n",
            " [6.1 2.8 4.0 1.3 'Iris-versicolor']\n",
            " [6.3 2.5 4.9 1.5 'Iris-versicolor']\n",
            " [6.1 2.8 4.7 1.2 'Iris-versicolor']\n",
            " [6.4 2.9 4.3 1.3 'Iris-versicolor']\n",
            " [6.6 3.0 4.4 1.4 'Iris-versicolor']\n",
            " [6.8 2.8 4.8 1.4 'Iris-versicolor']\n",
            " [6.7 3.0 5.0 1.7 'Iris-versicolor']\n",
            " [6.0 2.9 4.5 1.5 'Iris-versicolor']\n",
            " [5.7 2.6 3.5 1.0 'Iris-versicolor']\n",
            " [5.5 2.4 3.8 1.1 'Iris-versicolor']\n",
            " [5.5 2.4 3.7 1.0 'Iris-versicolor']\n",
            " [5.8 2.7 3.9 1.2 'Iris-versicolor']\n",
            " [6.0 2.7 5.1 1.6 'Iris-versicolor']\n",
            " [5.4 3.0 4.5 1.5 'Iris-versicolor']\n",
            " [6.0 3.4 4.5 1.6 'Iris-versicolor']\n",
            " [6.7 3.1 4.7 1.5 'Iris-versicolor']\n",
            " [6.3 2.3 4.4 1.3 'Iris-versicolor']\n",
            " [5.6 3.0 4.1 1.3 'Iris-versicolor']\n",
            " [5.5 2.5 4.0 1.3 'Iris-versicolor']\n",
            " [5.5 2.6 4.4 1.2 'Iris-versicolor']\n",
            " [6.1 3.0 4.6 1.4 'Iris-versicolor']\n",
            " [5.8 2.6 4.0 1.2 'Iris-versicolor']\n",
            " [5.0 2.3 3.3 1.0 'Iris-versicolor']\n",
            " [5.6 2.7 4.2 1.3 'Iris-versicolor']\n",
            " [5.7 3.0 4.2 1.2 'Iris-versicolor']\n",
            " [5.7 2.9 4.2 1.3 'Iris-versicolor']\n",
            " [6.2 2.9 4.3 1.3 'Iris-versicolor']\n",
            " [5.1 2.5 3.0 1.1 'Iris-versicolor']\n",
            " [5.7 2.8 4.1 1.3 'Iris-versicolor']\n",
            " [6.3 3.3 6.0 2.5 'Iris-virginica']\n",
            " [5.8 2.7 5.1 1.9 'Iris-virginica']\n",
            " [7.1 3.0 5.9 2.1 'Iris-virginica']\n",
            " [6.3 2.9 5.6 1.8 'Iris-virginica']\n",
            " [6.5 3.0 5.8 2.2 'Iris-virginica']\n",
            " [7.6 3.0 6.6 2.1 'Iris-virginica']\n",
            " [4.9 2.5 4.5 1.7 'Iris-virginica']\n",
            " [7.3 2.9 6.3 1.8 'Iris-virginica']\n",
            " [6.7 2.5 5.8 1.8 'Iris-virginica']\n",
            " [7.2 3.6 6.1 2.5 'Iris-virginica']\n",
            " [6.5 3.2 5.1 2.0 'Iris-virginica']\n",
            " [6.4 2.7 5.3 1.9 'Iris-virginica']\n",
            " [6.8 3.0 5.5 2.1 'Iris-virginica']\n",
            " [5.7 2.5 5.0 2.0 'Iris-virginica']\n",
            " [5.8 2.8 5.1 2.4 'Iris-virginica']\n",
            " [6.4 3.2 5.3 2.3 'Iris-virginica']\n",
            " [6.5 3.0 5.5 1.8 'Iris-virginica']\n",
            " [7.7 3.8 6.7 2.2 'Iris-virginica']\n",
            " [7.7 2.6 6.9 2.3 'Iris-virginica']\n",
            " [6.0 2.2 5.0 1.5 'Iris-virginica']\n",
            " [6.9 3.2 5.7 2.3 'Iris-virginica']\n",
            " [5.6 2.8 4.9 2.0 'Iris-virginica']\n",
            " [7.7 2.8 6.7 2.0 'Iris-virginica']\n",
            " [6.3 2.7 4.9 1.8 'Iris-virginica']\n",
            " [6.7 3.3 5.7 2.1 'Iris-virginica']\n",
            " [7.2 3.2 6.0 1.8 'Iris-virginica']\n",
            " [6.2 2.8 4.8 1.8 'Iris-virginica']\n",
            " [6.1 3.0 4.9 1.8 'Iris-virginica']\n",
            " [6.4 2.8 5.6 2.1 'Iris-virginica']\n",
            " [7.2 3.0 5.8 1.6 'Iris-virginica']\n",
            " [7.4 2.8 6.1 1.9 'Iris-virginica']\n",
            " [7.9 3.8 6.4 2.0 'Iris-virginica']\n",
            " [6.4 2.8 5.6 2.2 'Iris-virginica']\n",
            " [6.3 2.8 5.1 1.5 'Iris-virginica']\n",
            " [6.1 2.6 5.6 1.4 'Iris-virginica']\n",
            " [7.7 3.0 6.1 2.3 'Iris-virginica']\n",
            " [6.3 3.4 5.6 2.4 'Iris-virginica']\n",
            " [6.4 3.1 5.5 1.8 'Iris-virginica']\n",
            " [6.0 3.0 4.8 1.8 'Iris-virginica']\n",
            " [6.9 3.1 5.4 2.1 'Iris-virginica']\n",
            " [6.7 3.1 5.6 2.4 'Iris-virginica']\n",
            " [6.9 3.1 5.1 2.3 'Iris-virginica']\n",
            " [5.8 2.7 5.1 1.9 'Iris-virginica']\n",
            " [6.8 3.2 5.9 2.3 'Iris-virginica']\n",
            " [6.7 3.3 5.7 2.5 'Iris-virginica']\n",
            " [6.7 3.0 5.2 2.3 'Iris-virginica']\n",
            " [6.3 2.5 5.0 1.9 'Iris-virginica']\n",
            " [6.5 3.0 5.2 2.0 'Iris-virginica']\n",
            " [6.2 3.4 5.4 2.3 'Iris-virginica']\n",
            " [5.9 3.0 5.1 1.8 'Iris-virginica']]\n"
          ]
        }
      ]
    },
    {
      "cell_type": "code",
      "source": [
        "x = data[:,0]\n",
        "\n",
        "y = data[:,1]\n",
        "# z = data[:,2]\n",
        "# w = data[:,3]\n",
        "color_dict = {'Iris-setosa': 'purple',\n",
        "              'Iris-versicolor': 'cyan',\n",
        "              'Iris-virginica': 'magenta'}\n",
        "pl.scatter(x,y,color = [color_dict[i] for i in data[:,-1]])\n",
        "# pl.legend(loc = 'upper right')\n",
        "# pl.figure()\n",
        "pl.show()\n",
        "#s = set(data[:,4])\n",
        "#print(x)"
      ],
      "metadata": {
        "colab": {
          "base_uri": "https://localhost:8080/",
          "height": 268
        },
        "id": "wDwjG_xYrZRn",
        "outputId": "d2cb1767-6359-499c-96d1-f35557996045"
      },
      "execution_count": 16,
      "outputs": [
        {
          "output_type": "display_data",
          "data": {
            "image/png": "[encoded data removed]",
            "text/plain": [
              "<Figure size 432x288 with 1 Axes>"
            ]
          },
          "metadata": {
            "needs_background": "light"
          }
        }
      ]
    },
    {
      "cell_type": "code",
      "source": [
        "m = data[:,2]\n",
        "n = data[:,3]\n",
        "\n",
        "pl.scatter(m,n, color = [color_dict[i] for i in data[:,-1]])\n",
        "pl.show()"
      ],
      "metadata": {
        "colab": {
          "base_uri": "https://localhost:8080/",
          "height": 265
        },
        "id": "lhPpvZhVspct",
        "outputId": "fa06bd3e-bba9-4f96-b095-2df02e89d75d"
      },
      "execution_count": 17,
      "outputs": [
        {
          "output_type": "display_data",
          "data": {
            "image/png": "[encoded data removed]",
            "text/plain": [
              "<Figure size 432x288 with 1 Axes>"
            ]
          },
          "metadata": {
            "needs_background": "light"
          }
        }
      ]
    }
  ]
}