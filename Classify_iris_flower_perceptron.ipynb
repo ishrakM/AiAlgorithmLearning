{
  "cells": [
    {
      "cell_type": "markdown",
      "metadata": {
        "id": "view-in-github",
        "colab_type": "text"
      },
      "source": [
        "<a href=\"https://colab.research.google.com/github/ishrakM/AiAlgorithmLearning/blob/main/Classify_iris_flower_perceptron.ipynb\" target=\"_parent\"><img src=\"https://colab.research.google.com/assets/colab-badge.svg\" alt=\"Open In Colab\"/></a>"
      ]
    },
    {
      "cell_type": "code",
      "execution_count": 264,
      "metadata": {
        "id": "z-lvBCZ4vPxo"
      },
      "outputs": [],
      "source": [
        "import numpy as np\n",
        "import pandas as pd\n",
        "import matplotlib.pyplot as plt\n"
      ]
    },
    {
      "cell_type": "code",
      "execution_count": 265,
      "metadata": {
        "colab": {
          "base_uri": "https://localhost:8080/"
        },
        "id": "madBvKAyNP0J",
        "outputId": "6d1f829a-77c7-4b7d-b62a-da0e34adea0d"
      },
      "outputs": [
        {
          "output_type": "execute_result",
          "data": {
            "text/plain": [
              "(149, 5)"
            ]
          },
          "metadata": {},
          "execution_count": 265
        }
      ],
      "source": [
        "raw_train = pd.read_csv('/content/drive/MyDrive/Ai_Colab/iris_data/bezdekIris.data')\n",
        "raw_test = pd.read_csv('/content/drive/MyDrive/Ai_Colab/iris_data/iris.data')\n",
        "\n",
        "\n",
        "data_train = raw_train.values\n",
        "data_test = raw_test.values\n",
        "\n",
        "#print(data)\n",
        "data_test.shape"
      ]
    },
    {
      "cell_type": "code",
      "execution_count": 266,
      "metadata": {
        "colab": {
          "base_uri": "https://localhost:8080/",
          "height": 204
        },
        "id": "ryeHyF6INw5U",
        "outputId": "14429c7a-278b-4ae1-f726-9a8b14715e31"
      },
      "outputs": [
        {
          "output_type": "execute_result",
          "data": {
            "text/html": [
              "\n",
              "  <div id=\"df-c3be65d4-011e-4585-99e4-eaebe1fcae40\">\n",
              "    <div class=\"colab-df-container\">\n",
              "      <div>\n",
              "<style scoped>\n",
              "    .dataframe tbody tr th:only-of-type {\n",
              "        vertical-align: middle;\n",
              "    }\n",
              "\n",
              "    .dataframe tbody tr th {\n",
              "        vertical-align: top;\n",
              "    }\n",
              "\n",
              "    .dataframe thead th {\n",
              "        text-align: right;\n",
              "    }\n",
              "</style>\n",
              "<table border=\"1\" class=\"dataframe\">\n",
              "  <thead>\n",
              "    <tr style=\"text-align: right;\">\n",
              "      <th></th>\n",
              "      <th>5.1</th>\n",
              "      <th>3.5</th>\n",
              "      <th>1.4</th>\n",
              "      <th>0.2</th>\n",
              "      <th>Iris-setosa</th>\n",
              "    </tr>\n",
              "  </thead>\n",
              "  <tbody>\n",
              "    <tr>\n",
              "      <th>0</th>\n",
              "      <td>4.9</td>\n",
              "      <td>3.0</td>\n",
              "      <td>1.4</td>\n",
              "      <td>0.2</td>\n",
              "      <td>Iris-setosa</td>\n",
              "    </tr>\n",
              "    <tr>\n",
              "      <th>1</th>\n",
              "      <td>4.7</td>\n",
              "      <td>3.2</td>\n",
              "      <td>1.3</td>\n",
              "      <td>0.2</td>\n",
              "      <td>Iris-setosa</td>\n",
              "    </tr>\n",
              "    <tr>\n",
              "      <th>2</th>\n",
              "      <td>4.6</td>\n",
              "      <td>3.1</td>\n",
              "      <td>1.5</td>\n",
              "      <td>0.2</td>\n",
              "      <td>Iris-setosa</td>\n",
              "    </tr>\n",
              "    <tr>\n",
              "      <th>3</th>\n",
              "      <td>5.0</td>\n",
              "      <td>3.6</td>\n",
              "      <td>1.4</td>\n",
              "      <td>0.2</td>\n",
              "      <td>Iris-setosa</td>\n",
              "    </tr>\n",
              "    <tr>\n",
              "      <th>4</th>\n",
              "      <td>5.4</td>\n",
              "      <td>3.9</td>\n",
              "      <td>1.7</td>\n",
              "      <td>0.4</td>\n",
              "      <td>Iris-setosa</td>\n",
              "    </tr>\n",
              "  </tbody>\n",
              "</table>\n",
              "</div>\n",
              "      <button class=\"colab-df-convert\" onclick=\"convertToInteractive('df-c3be65d4-011e-4585-99e4-eaebe1fcae40')\"\n",
              "              title=\"Convert this dataframe to an interactive table.\"\n",
              "              style=\"display:none;\">\n",
              "        \n",
              "  <svg xmlns=\"http://www.w3.org/2000/svg\" height=\"24px\"viewBox=\"0 0 24 24\"\n",
              "       width=\"24px\">\n",
              "    <path d=\"M0 0h24v24H0V0z\" fill=\"none\"/>\n",
              "    <path d=\"M18.56 5.44l.94 2.06.94-2.06 2.06-.94-2.06-.94-.94-2.06-.94 2.06-2.06.94zm-11 1L8.5 8.5l.94-2.06 2.06-.94-2.06-.94L8.5 2.5l-.94 2.06-2.06.94zm10 10l.94 2.06.94-2.06 2.06-.94-2.06-.94-.94-2.06-.94 2.06-2.06.94z\"/><path d=\"M17.41 7.96l-1.37-1.37c-.4-.4-.92-.59-1.43-.59-.52 0-1.04.2-1.43.59L10.3 9.45l-7.72 7.72c-.78.78-.78 2.05 0 2.83L4 21.41c.39.39.9.59 1.41.59.51 0 1.02-.2 1.41-.59l7.78-7.78 2.81-2.81c.8-.78.8-2.07 0-2.86zM5.41 20L4 18.59l7.72-7.72 1.47 1.35L5.41 20z\"/>\n",
              "  </svg>\n",
              "      </button>\n",
              "      \n",
              "  <style>\n",
              "    .colab-df-container {\n",
              "      display:flex;\n",
              "      flex-wrap:wrap;\n",
              "      gap: 12px;\n",
              "    }\n",
              "\n",
              "    .colab-df-convert {\n",
              "      background-color: #E8F0FE;\n",
              "      border: none;\n",
              "      border-radius: 50%;\n",
              "      cursor: pointer;\n",
              "      display: none;\n",
              "      fill: #1967D2;\n",
              "      height: 32px;\n",
              "      padding: 0 0 0 0;\n",
              "      width: 32px;\n",
              "    }\n",
              "\n",
              "    .colab-df-convert:hover {\n",
              "      background-color: #E2EBFA;\n",
              "      box-shadow: 0px 1px 2px rgba(60, 64, 67, 0.3), 0px 1px 3px 1px rgba(60, 64, 67, 0.15);\n",
              "      fill: #174EA6;\n",
              "    }\n",
              "\n",
              "    [theme=dark] .colab-df-convert {\n",
              "      background-color: #3B4455;\n",
              "      fill: #D2E3FC;\n",
              "    }\n",
              "\n",
              "    [theme=dark] .colab-df-convert:hover {\n",
              "      background-color: #434B5C;\n",
              "      box-shadow: 0px 1px 3px 1px rgba(0, 0, 0, 0.15);\n",
              "      filter: drop-shadow(0px 1px 2px rgba(0, 0, 0, 0.3));\n",
              "      fill: #FFFFFF;\n",
              "    }\n",
              "  </style>\n",
              "\n",
              "      <script>\n",
              "        const buttonEl =\n",
              "          document.querySelector('#df-c3be65d4-011e-4585-99e4-eaebe1fcae40 button.colab-df-convert');\n",
              "        buttonEl.style.display =\n",
              "          google.colab.kernel.accessAllowed ? 'block' : 'none';\n",
              "\n",
              "        async function convertToInteractive(key) {\n",
              "          const element = document.querySelector('#df-c3be65d4-011e-4585-99e4-eaebe1fcae40');\n",
              "          const dataTable =\n",
              "            await google.colab.kernel.invokeFunction('convertToInteractive',\n",
              "                                                     [key], {});\n",
              "          if (!dataTable) return;\n",
              "\n",
              "          const docLinkHtml = 'Like what you see? Visit the ' +\n",
              "            '<a target=\"_blank\" href=https://colab.research.google.com/notebooks/data_table.ipynb>data table notebook</a>'\n",
              "            + ' to learn more about interactive tables.';\n",
              "          element.innerHTML = '';\n",
              "          dataTable['output_type'] = 'display_data';\n",
              "          await google.colab.output.renderOutput(dataTable, element);\n",
              "          const docLink = document.createElement('div');\n",
              "          docLink.innerHTML = docLinkHtml;\n",
              "          element.appendChild(docLink);\n",
              "        }\n",
              "      </script>\n",
              "    </div>\n",
              "  </div>\n",
              "  "
            ],
            "text/plain": [
              "   5.1  3.5  1.4  0.2  Iris-setosa\n",
              "0  4.9  3.0  1.4  0.2  Iris-setosa\n",
              "1  4.7  3.2  1.3  0.2  Iris-setosa\n",
              "2  4.6  3.1  1.5  0.2  Iris-setosa\n",
              "3  5.0  3.6  1.4  0.2  Iris-setosa\n",
              "4  5.4  3.9  1.7  0.4  Iris-setosa"
            ]
          },
          "metadata": {},
          "execution_count": 266
        }
      ],
      "source": [
        "raw_test.head()"
      ]
    },
    {
      "cell_type": "code",
      "execution_count": 267,
      "metadata": {
        "colab": {
          "base_uri": "https://localhost:8080/"
        },
        "id": "WHPlRJQtFpvx",
        "outputId": "513262ab-173e-403f-da76-a075c1db7db7"
      },
      "outputs": [
        {
          "output_type": "stream",
          "name": "stdout",
          "text": [
            "<class 'pandas.core.frame.DataFrame'>\n",
            "RangeIndex: 149 entries, 0 to 148\n",
            "Data columns (total 5 columns):\n",
            " #   Column       Non-Null Count  Dtype  \n",
            "---  ------       --------------  -----  \n",
            " 0   5.1          149 non-null    float64\n",
            " 1   3.5          149 non-null    float64\n",
            " 2   1.4          149 non-null    float64\n",
            " 3   0.2          149 non-null    float64\n",
            " 4   Iris-setosa  149 non-null    object \n",
            "dtypes: float64(4), object(1)\n",
            "memory usage: 5.9+ KB\n"
          ]
        }
      ],
      "source": [
        "raw_train.info()"
      ]
    },
    {
      "cell_type": "code",
      "execution_count": 268,
      "metadata": {
        "colab": {
          "base_uri": "https://localhost:8080/",
          "height": 404
        },
        "id": "LWAIAI9lN9dU",
        "outputId": "e5d659d0-6dbe-4ca7-94ec-476a1e50b6cb"
      },
      "outputs": [
        {
          "output_type": "display_data",
          "data": {
            "image/png": "[encoded data removed]",
            "text/plain": [
              "<Figure size 576x432 with 1 Axes>"
            ]
          },
          "metadata": {
            "needs_background": "light"
          }
        }
      ],
      "source": [
        "X = data_train[:,0]\n",
        "y = data_train[:,1]\n",
        "fig = plt.figure(figsize=(8,6))\n",
        "color_dict = {'Iris-setosa': 'purple',\n",
        "              'Iris-versicolor': 'cyan',\n",
        "              'Iris-virginica': 'magenta'}\n",
        "\n",
        "plt.scatter(X,y,color = [color_dict[i] for i in data_train[:,-1]])              \n",
        "#plt.scatter(X[:,0], y[:,1], c=y)\n",
        "plt.title(\"Dataset\")\n",
        "plt.xlabel(\"First feature\")\n",
        "plt.ylabel(\"Second feature\")\n",
        "plt.show()"
      ]
    },
    {
      "cell_type": "code",
      "execution_count": 269,
      "metadata": {
        "id": "2gb-9QTsEjJ5"
      },
      "outputs": [],
      "source": [
        "\n",
        "#Defining data\n",
        "\n",
        "#first file for trainning and second for testing\n",
        "    \n",
        "X_train = data_train[:,0:4]\n",
        "y_train1 = data_train[:,4]\n",
        "\n",
        "X_test = data_test[:,0:4]\n",
        "y_test1 = data_test[:,4]\n",
        "\n",
        "\n",
        "num_of_training = X_train.shape[0] # number of training data\n",
        "num_of_testing = X_test.shape[0]  \n",
        "epochs = 100 \n",
        "\n",
        "neuron_cell = X_train.shape[1] # number of input neuron_cell\n",
        "lr = 0.1 #learning rate\n"
      ]
    },
    {
      "cell_type": "code",
      "source": [
        "y_test_new = y_test1.tolist()\n",
        "\n",
        "y_test = []\n",
        "i = 0\n",
        "ar_length = len(y_test_new)\n",
        "\n",
        "f1name = \"Iris-setosa\"\n",
        "f2naem = \"Iris-versicolor\"\n",
        "\n",
        "for i in range(ar_length):\n",
        "  if y_test_new[i] == f1name:\n",
        "     y_test.append(0)\n",
        "  elif y_test_new[i] == f2naem:\n",
        "     y_test.append(1)\n",
        "  else:\n",
        "     y_test.append(2)\n",
        "++i\n",
        "    "
      ],
      "metadata": {
        "colab": {
          "base_uri": "https://localhost:8080/"
        },
        "id": "jyzhca9SZOfE",
        "outputId": "defd9f05-24ac-4eb3-992c-2960d2168b61"
      },
      "execution_count": 270,
      "outputs": [
        {
          "output_type": "execute_result",
          "data": {
            "text/plain": [
              "148"
            ]
          },
          "metadata": {},
          "execution_count": 270
        }
      ]
    },
    {
      "cell_type": "code",
      "execution_count": 271,
      "metadata": {
        "colab": {
          "base_uri": "https://localhost:8080/"
        },
        "id": "SPJNG_eN-txq",
        "outputId": "9c8781c3-0d54-426e-ebd6-d49d87614f67"
      },
      "outputs": [
        {
          "output_type": "execute_result",
          "data": {
            "text/plain": [
              "148"
            ]
          },
          "metadata": {},
          "execution_count": 271
        }
      ],
      "source": [
        "y_train_new = y_train1.tolist()\n",
        "\n",
        "y_train = []\n",
        "i = 0\n",
        "ar_length = len(y_train_new)\n",
        "\n",
        "f1name = \"Iris-setosa\"\n",
        "f2naem = \"Iris-versicolor\"\n",
        "\n",
        "for i in range(ar_length):\n",
        "  if y_train_new[i] == f1name:\n",
        "     y_train.append(0)\n",
        "  elif y_train_new[i] == f2naem:\n",
        "     y_train.append(1)\n",
        "  else:\n",
        "     y_train.append(2)\n",
        "++i\n",
        "    \n"
      ]
    },
    {
      "cell_type": "code",
      "execution_count": 272,
      "metadata": {
        "colab": {
          "base_uri": "https://localhost:8080/"
        },
        "id": "Vz7WW85by438",
        "outputId": "4e9a38b9-3099-4fe0-92a9-7eb0974d3bef"
      },
      "outputs": [
        {
          "output_type": "execute_result",
          "data": {
            "text/plain": [
              "list"
            ]
          },
          "metadata": {},
          "execution_count": 272
        }
      ],
      "source": [
        "#print(y_train)\n",
        "#y_train[0]\n",
        "type(y_train_new)"
      ]
    },
    {
      "cell_type": "code",
      "execution_count": 273,
      "metadata": {
        "id": "_RhoPwqWFFtJ"
      },
      "outputs": [],
      "source": [
        "class Perceptron:\n",
        "\n",
        "    def __init__(self, neuron_cell, epochs, x_train_data, x_test_data, y_train_data, y_test_data, lr, num_of_training, num_of_testing):\n",
        "\n",
        "        self.x_train_data = x_train_data\n",
        "        self.x_test_data = x_test_data\n",
        "        \n",
        "        self.y_train_data = y_train_data\n",
        "        self.y_test_data = y_test_data\n",
        "\n",
        "        self.num_of_training = num_of_training #number of training samples\n",
        "        self.num_of_testing = num_of_testing #number of testing samples\n",
        "\n",
        "\n",
        "        self.epochs = epochs \n",
        "        self.lr = lr #learning rate  \n",
        "        self.neuron_cell = neuron_cell \n",
        "        self.bias = 0   #initialized bias 0       \n",
        "        self.weight = np.zeros(neuron_cell) \n",
        "\n",
        "        self.ee = np.zeros(num_of_training) #error difference of predicted value and generated value\n",
        "        self.mean_sq_err = np.zeros(self.epochs) #mean squared error \n",
        "        self.err_point = 0 #testing error tracker\n",
        "        \n",
        "\n",
        "    def activation_func(self, x):     # sigmoid function\n",
        "        y = np.transpose(self.weight).dot(x) + self.bias\n",
        "      \n",
        "        y = 1/(1 + np.exp(-y))\n",
        "\n",
        "       # if y > 0.5:\n",
        "      #    return 1\n",
        "      #  else:\n",
        "       #   return 0\n",
        "\n",
        "        if y == 1:\n",
        "            return 1\n",
        "        elif y < 1:\n",
        "            return 0\n",
        "        else:\n",
        "            return 2\n",
        "\n",
        "\n",
        "    def tr_learn(self): #learn through the number of traing samples\n",
        "\n",
        "        for e in range(self.epochs): #total ephoch loop\n",
        "\n",
        "            for i in range(self.num_of_training): #per ephoch loop\n",
        "            \n",
        "                x = self.x_train_data[i, 0:self.neuron_cell]\n",
        "\n",
        "                d = self.y_train_data[i]\n",
        "                y = self.activation_func(x)               \n",
        "                self.ee[i] = d - y #calculate error difference\n",
        "                n_weight = self.weight + x.dot(self.ee[i] * self.lr) #assigning new weight\n",
        "                \n",
        "                self.weight = n_weight\n",
        "            \n",
        "            self.mean_sq_err[e] = np.square(self.ee).mean() \n",
        "\n",
        "        train_acc = 100 - ((self.ee[self.num_of_training - 1]/self.num_of_training) * 100) #calculate trainning accuracy\n",
        " \n",
        "        print(f'Training accuracy: {train_acc}')\n",
        "        print(f'epochs: {self.epochs}')\n",
        "\n",
        "\n",
        "\n",
        "\n",
        "    def predict(self): #predict through testing data and calulate testing accuracy\n",
        "        \n",
        "        for i in range(self.num_of_testing):\n",
        "            x = self.x_test_data[i, 0:self.neuron_cell]\n",
        "            y = self.activation_func(x)\n",
        "\n",
        "            if y!=self.y_test_data[i]:  #calculate error points\n",
        "               self.err_point += 1\n",
        "     \n",
        "        testing_accuracy = 100 - ((self.err_point/self.num_of_testing) * 100) # testing accuracy   \n",
        "\n",
        "        print(f'Total errror points: {self.err_point}')\n",
        "        print(f'Testing accuracy: {testing_accuracy:.2f}')\n",
        "        "
      ]
    },
    {
      "cell_type": "code",
      "source": [
        "perceptron = Perceptron(neuron_cell, epochs, X_train, X_test, y_train, y_test, lr, num_of_training, num_of_testing)\n",
        "\n",
        "perceptron.tr_learn()\n",
        "\n",
        "perceptron.predict()"
      ],
      "metadata": {
        "colab": {
          "base_uri": "https://localhost:8080/"
        },
        "id": "Cue0nVvLkXkR",
        "outputId": "41a07e12-0ee7-45d0-e5d3-3cbe3c3a018b"
      },
      "execution_count": 274,
      "outputs": [
        {
          "output_type": "stream",
          "name": "stdout",
          "text": [
            "Training accuracy: 99.32885906040268\n",
            "epochs: 100\n",
            "Total errror points: 99\n",
            "Testing accuracy: 33.56\n"
          ]
        }
      ]
    }
  ],
  "metadata": {
    "colab": {
      "collapsed_sections": [],
      "name": "Classify_iris_flower_perceptron.ipynb",
      "provenance": [],
      "mount_file_id": "1jHLVAsi2Jsk-9iNW78XO8AtEWCgx6BYt",
      "authorship_tag": "ABX9TyMp9H1WBOgvsYGi5hmZpDsx",
      "include_colab_link": true
    },
    "kernelspec": {
      "display_name": "Python 3",
      "name": "python3"
    },
    "language_info": {
      "name": "python"
    }
  },
  "nbformat": 4,
  "nbformat_minor": 0
}